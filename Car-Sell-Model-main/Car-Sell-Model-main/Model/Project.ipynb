{
 "cells": [
  {
   "cell_type": "code",
   "execution_count": null,
   "id": "0f50e518-26df-45c1-86c9-2e9add76e06e",
   "metadata": {},
   "outputs": [],
   "source": [
    "import pandas as pd\n",
    "import oracledb as cx_Oracle"
   ]
  },
  {
   "cell_type": "code",
   "execution_count": null,
   "id": "796cb55f-f249-4e84-8ee2-853c28dd2f1c",
   "metadata": {},
   "outputs": [],
   "source": [
    " con = cx_Oracle.connect('c##scott/tiger@localhost:1521/xe')\n",
    "cursor = con.cursor()"
   ]
  },
  {
   "cell_type": "code",
   "execution_count": null,
   "id": "4a55007c-8b73-45fe-ba8d-81a9b28bf01c",
   "metadata": {},
   "outputs": [],
   "source": [
    "! pip install SQLAlchemy"
   ]
  },
  {
   "cell_type": "code",
   "execution_count": null,
   "id": "1c8873ae-a90d-4a5e-92c3-4c60ad52c0ed",
   "metadata": {
    "scrolled": true
   },
   "outputs": [],
   "source": [
    "query='select * from cars'\n",
    "data=pd.read_sql(query,con)\n",
    "data_df=pd.DataFrame(data)\n",
    "\n",
    "\n"
   ]
  },
  {
   "cell_type": "code",
   "execution_count": null,
   "id": "dbe330ab-5eaa-4c2a-92c8-3a3f6600036a",
   "metadata": {},
   "outputs": [],
   "source": [
    "data_df"
   ]
  },
  {
   "cell_type": "code",
   "execution_count": null,
   "id": "b5e6da0b-0f0c-459c-9e35-8fa216882325",
   "metadata": {},
   "outputs": [],
   "source": [
    "import datasist as ds"
   ]
  },
  {
   "cell_type": "code",
   "execution_count": null,
   "id": "e827a848-7e41-4bc0-9f9c-61ac9451bbed",
   "metadata": {},
   "outputs": [],
   "source": [
    "ds.structdata.describe(data_df)"
   ]
  },
  {
   "cell_type": "code",
   "execution_count": null,
   "id": "64f22056-252f-4f27-ac0e-817cbec55a52",
   "metadata": {},
   "outputs": [],
   "source": [
    "ds.visualizations.countplot(data_df)"
   ]
  },
  {
   "cell_type": "code",
   "execution_count": null,
   "id": "b4c2d6ea-4749-40e8-acec-a40af61c75e6",
   "metadata": {},
   "outputs": [],
   "source": [
    "data_df.tail()"
   ]
  },
  {
   "cell_type": "code",
   "execution_count": null,
   "id": "b5489456-4ae8-4871-8d60-226436f3c5ed",
   "metadata": {},
   "outputs": [],
   "source": [
    "data_df=ds.feature_engineering.fill_missing_cats(data_df)\n",
    "data_df=ds.feature_engineering.fill_missing_num(data_df)"
   ]
  },
  {
   "cell_type": "code",
   "execution_count": null,
   "id": "26421b63-3a12-4adb-ae16-382439545408",
   "metadata": {},
   "outputs": [],
   "source": [
    "data_df.columns"
   ]
  },
  {
   "cell_type": "code",
   "execution_count": null,
   "id": "fb1e0e05-5e69-4c86-bd1f-53791d7327ea",
   "metadata": {},
   "outputs": [],
   "source": [
    "data_df['YEAR']=2024-data_df['YEAR']"
   ]
  },
  {
   "cell_type": "code",
   "execution_count": null,
   "id": "189374ba-914f-4094-ab80-a47644239edb",
   "metadata": {},
   "outputs": [],
   "source": [
    "data_df.head(2)"
   ]
  },
  {
   "cell_type": "code",
   "execution_count": null,
   "id": "5e5c6278-0b59-4173-8646-682cc5c52dce",
   "metadata": {},
   "outputs": [],
   "source": [
    "data_df.head()"
   ]
  },
  {
   "cell_type": "code",
   "execution_count": null,
   "id": "be47a893-f8e3-456c-a5aa-a1b30267dc55",
   "metadata": {},
   "outputs": [],
   "source": [
    "data_df.dtypes"
   ]
  },
  {
   "cell_type": "code",
   "execution_count": null,
   "id": "f4a27536-61ff-4523-96d1-8e3b9936e263",
   "metadata": {},
   "outputs": [],
   "source": [
    "data_df_without_first_col = data_df.iloc[:, 1:]"
   ]
  },
  {
   "cell_type": "code",
   "execution_count": null,
   "id": "68f38a10-ec85-4f2a-9656-6878c44cf490",
   "metadata": {},
   "outputs": [],
   "source": [
    "data_df_without_first_col.columns"
   ]
  },
  {
   "cell_type": "code",
   "execution_count": null,
   "id": "2c0b804d-618a-4a11-a46b-9c028b910bd7",
   "metadata": {},
   "outputs": [],
   "source": [
    "data_df=pd.get_dummies(data_df_without_first_col,drop_first=True)"
   ]
  },
  {
   "cell_type": "code",
   "execution_count": null,
   "id": "fa2c40bd-f724-4dbc-be70-0d2d914d20fd",
   "metadata": {},
   "outputs": [],
   "source": [
    "data_df.head()"
   ]
  },
  {
   "cell_type": "code",
   "execution_count": null,
   "id": "82226b26-e0ce-427f-800c-bf2c2b23a4c3",
   "metadata": {},
   "outputs": [],
   "source": [
    "data_df.columns\n"
   ]
  },
  {
   "cell_type": "code",
   "execution_count": null,
   "id": "8099d41c-138b-4690-a0bf-dbd601345a8b",
   "metadata": {},
   "outputs": [],
   "source": [
    "x=data_df.drop('SELLING_PRICE',axis=1)\n",
    "y=data_df.SELLING_PRICE"
   ]
  },
  {
   "cell_type": "code",
   "execution_count": null,
   "id": "253ee60e-e172-418f-8676-cbefaf5375f5",
   "metadata": {},
   "outputs": [],
   "source": [
    "from sklearn.model_selection import train_test_split\n",
    "x_train, x_test,y_train,y_test=train_test_split(x,y,test_size=0.3,random_state=42)"
   ]
  },
  {
   "cell_type": "code",
   "execution_count": null,
   "id": "d84cf661-534e-4865-89c4-8deff659e0d1",
   "metadata": {},
   "outputs": [],
   "source": [
    "from sklearn.ensemble import RandomForestRegressor"
   ]
  },
  {
   "cell_type": "code",
   "execution_count": null,
   "id": "5759abbb-7082-4fbf-ad7e-500cdf5b04cb",
   "metadata": {},
   "outputs": [],
   "source": [
    "model= RandomForestRegressor()\n",
    "model.fit(x_train,y_train)\n"
   ]
  },
  {
   "cell_type": "code",
   "execution_count": null,
   "id": "237b58d8-2a6a-469c-baef-66ea7b326e71",
   "metadata": {},
   "outputs": [],
   "source": [
    "predictions=model.predict(x_test)"
   ]
  },
  {
   "cell_type": "code",
   "execution_count": null,
   "id": "c7ff48d5-383c-4888-8b83-7cf1814291c4",
   "metadata": {},
   "outputs": [],
   "source": [
    "x_test.columns"
   ]
  },
  {
   "cell_type": "code",
   "execution_count": null,
   "id": "3c790122-d45e-49ff-a94e-5cb88e1c59fe",
   "metadata": {},
   "outputs": [],
   "source": [
    "from sklearn import metrics"
   ]
  },
  {
   "cell_type": "code",
   "execution_count": null,
   "id": "79fe66f1-4e58-4e08-84c8-beacdaf3f751",
   "metadata": {},
   "outputs": [],
   "source": [
    "import numpy as np\n",
    "print('RMSE:',np.sqrt(metrics.mean_squared_error(y_test,predictions)))"
   ]
  },
  {
   "cell_type": "code",
   "execution_count": null,
   "id": "7a78f731-2e02-4473-85ef-a6def3019385",
   "metadata": {},
   "outputs": [],
   "source": [
    "l = [6, 11070.60, 41181, 0, 1, 1, 0,0]\n"
   ]
  },
  {
   "cell_type": "code",
   "execution_count": null,
   "id": "ed53cb59-f488-43dd-8c19-788353d54a3d",
   "metadata": {},
   "outputs": [],
   "source": [
    "l_df = pd.DataFrame([l], columns=x_test.columns)\n"
   ]
  },
  {
   "cell_type": "code",
   "execution_count": null,
   "id": "9e5884f0-1bf7-4361-8c3e-ddcfac7eb983",
   "metadata": {},
   "outputs": [],
   "source": [
    "model.predict(l_df)"
   ]
  },
  {
   "cell_type": "code",
   "execution_count": null,
   "id": "5fa09278-1dfb-4b0a-8d3d-0e104b87cf0a",
   "metadata": {},
   "outputs": [],
   "source": [
    "import pickle\n",
    "file=open('carsellModel.pkl','wb')\n",
    "pickle.dump(model,file)"
   ]
  },
  {
   "cell_type": "code",
   "execution_count": null,
   "id": "08f4d6d2-c210-4760-b2cc-456b86a4b29c",
   "metadata": {},
   "outputs": [],
   "source": [
    "from joblib import dump\n",
    "\n",
    "# Assume data is a large dataset (e.g., loaded from disk)\n",
    "\n",
    "\n",
    "# Save the dataset to a file\n",
    "dump(model, 'CarModel.joblib')"
   ]
  },
  {
   "cell_type": "code",
   "execution_count": null,
   "id": "20d57f22-47ae-4f35-a5f2-bf3495a9408a",
   "metadata": {},
   "outputs": [],
   "source": []
  }
 ],
 "metadata": {
  "kernelspec": {
   "display_name": "Python 3 (ipykernel)",
   "language": "python",
   "name": "python3"
  },
  "language_info": {
   "codemirror_mode": {
    "name": "ipython",
    "version": 3
   },
   "file_extension": ".py",
   "mimetype": "text/x-python",
   "name": "python",
   "nbconvert_exporter": "python",
   "pygments_lexer": "ipython3",
   "version": "3.12.2"
  }
 },
 "nbformat": 4,
 "nbformat_minor": 5
}
